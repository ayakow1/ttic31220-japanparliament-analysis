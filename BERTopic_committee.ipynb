{
  "nbformat": 4,
  "nbformat_minor": 0,
  "metadata": {
    "colab": {
      "provenance": [],
      "gpuType": "T4",
      "authorship_tag": "ABX9TyPA7jS8yU0z84XblFy1JOtN",
      "include_colab_link": true
    },
    "kernelspec": {
      "name": "python3",
      "display_name": "Python 3"
    },
    "language_info": {
      "name": "python"
    },
    "accelerator": "GPU",
    "gpuClass": "standard"
  },
  "cells": [
    {
      "cell_type": "markdown",
      "metadata": {
        "id": "view-in-github",
        "colab_type": "text"
      },
      "source": [
        "<a href=\"https://colab.research.google.com/github/ayakow1/ttic31220-japanparliament-analysis/blob/main/BERTopic_committee.ipynb\" target=\"_parent\"><img src=\"https://colab.research.google.com/assets/colab-badge.svg\" alt=\"Open In Colab\"/></a>"
      ]
    },
    {
      "cell_type": "code",
      "execution_count": 3,
      "metadata": {
        "id": "1FpeQW9KuXq8"
      },
      "outputs": [],
      "source": [
        "%%capture\n",
        "!pip install bertopic"
      ]
    },
    {
      "cell_type": "code",
      "source": [
        "import locale\n",
        "locale.getpreferredencoding = lambda: \"UTF-8\""
      ],
      "metadata": {
        "id": "kq__iKeA9R2K"
      },
      "execution_count": 59,
      "outputs": []
    },
    {
      "cell_type": "code",
      "source": [
        "%%capture\n",
        "!pip install googletrans==3.1.0a0"
      ],
      "metadata": {
        "id": "g5NaA46M9I4d"
      },
      "execution_count": 60,
      "outputs": []
    },
    {
      "cell_type": "code",
      "source": [
        "from google.colab import drive\n",
        "drive.mount(\"/content/drive\")"
      ],
      "metadata": {
        "colab": {
          "base_uri": "https://localhost:8080/"
        },
        "id": "uGDgLD2fuYx3",
        "outputId": "50c52fdb-d11a-491d-8a12-067565aa5e46"
      },
      "execution_count": 1,
      "outputs": [
        {
          "output_type": "stream",
          "name": "stdout",
          "text": [
            "Drive already mounted at /content/drive; to attempt to forcibly remount, call drive.mount(\"/content/drive\", force_remount=True).\n"
          ]
        }
      ]
    },
    {
      "cell_type": "code",
      "source": [
        "import sqlite3\n",
        "import pandas as pd\n",
        "from bertopic import BERTopic\n",
        "import numpy as np\n",
        "from googletrans import Translator"
      ],
      "metadata": {
        "id": "T83pXxf_ucSp"
      },
      "execution_count": 3,
      "outputs": []
    },
    {
      "cell_type": "code",
      "source": [
        "# Import Data\n",
        "use_raw = True\n",
        "if use_raw:\n",
        "    name = \"raw_speech\"\n",
        "else:\n",
        "    name = \"speech\""
      ],
      "metadata": {
        "id": "T2pW5VFvufa5"
      },
      "execution_count": 4,
      "outputs": []
    },
    {
      "cell_type": "code",
      "source": [
        "conn = sqlite3.connect(f'/content/drive/MyDrive/議事録/{name}.db')\n",
        "all = pd.read_sql_query(f'''SELECT * FROM {name} WHERE house ='衆議院' AND speech_date >= '2020-01-01' AND speech_date <= '2023-04-31' ''', conn)\n",
        "docs = all['speech'].to_list()\n",
        "conn.close()"
      ],
      "metadata": {
        "id": "NthlBEC9vE9e"
      },
      "execution_count": 5,
      "outputs": []
    },
    {
      "cell_type": "code",
      "source": [
        "topic_model = BERTopic.load(\"/content/drive/MyDrive/議事録/BERTopic/model_shuugiin_3y\")"
      ],
      "metadata": {
        "id": "B7irbMk_vnhe"
      },
      "execution_count": 29,
      "outputs": []
    },
    {
      "cell_type": "code",
      "source": [
        "topic_model.get_topic_info()[:15]"
      ],
      "metadata": {
        "colab": {
          "base_uri": "https://localhost:8080/",
          "height": 519
        },
        "id": "o1SLm6eLzDEF",
        "outputId": "2aae4eee-3e25-422a-84cb-4c3e96eba056"
      },
      "execution_count": 30,
      "outputs": [
        {
          "output_type": "execute_result",
          "data": {
            "text/plain": [
              "    Topic  Count                Name\n",
              "0      -1  34792     -1_です_という_こと_ない\n",
              "1       0   3135  0_ください_でしょ_よろしい_大臣\n",
              "2       1   1425    1_雇用_賃上げ_賃金_最低賃金\n",
              "3       2   1386   2_接種_ワクチン_副反応_高齢者\n",
              "4       3   1006     3_消費税_課税_税制_法人税\n",
              "5       4    859       4_病院_医療_医師_患者\n",
              "6       5    725   5_ありがとう_ござい_まし_拍手\n",
              "7       6    669    6_予算_補正予算_予備費_経費\n",
              "8       7    641       7_学校_教員_学級_研修\n",
              "9       8    629      8_原発_原子力_規制_稼働\n",
              "10      9    590   9_ウクライナ_ロシア_侵略_侵攻\n",
              "11     10    537    10_自治体_地方_地域_市町村\n",
              "12     11    519   11_感染_感染者_感染拡大_検査\n",
              "13     12    342  12_住宅_家賃_空き家_マンション\n",
              "14     13    339     13_農業_農地_農家_担い手"
            ],
            "text/html": [
              "\n",
              "  <div id=\"df-8df7c213-6316-4143-af45-528de8b12cb3\">\n",
              "    <div class=\"colab-df-container\">\n",
              "      <div>\n",
              "<style scoped>\n",
              "    .dataframe tbody tr th:only-of-type {\n",
              "        vertical-align: middle;\n",
              "    }\n",
              "\n",
              "    .dataframe tbody tr th {\n",
              "        vertical-align: top;\n",
              "    }\n",
              "\n",
              "    .dataframe thead th {\n",
              "        text-align: right;\n",
              "    }\n",
              "</style>\n",
              "<table border=\"1\" class=\"dataframe\">\n",
              "  <thead>\n",
              "    <tr style=\"text-align: right;\">\n",
              "      <th></th>\n",
              "      <th>Topic</th>\n",
              "      <th>Count</th>\n",
              "      <th>Name</th>\n",
              "    </tr>\n",
              "  </thead>\n",
              "  <tbody>\n",
              "    <tr>\n",
              "      <th>0</th>\n",
              "      <td>-1</td>\n",
              "      <td>34792</td>\n",
              "      <td>-1_です_という_こと_ない</td>\n",
              "    </tr>\n",
              "    <tr>\n",
              "      <th>1</th>\n",
              "      <td>0</td>\n",
              "      <td>3135</td>\n",
              "      <td>0_ください_でしょ_よろしい_大臣</td>\n",
              "    </tr>\n",
              "    <tr>\n",
              "      <th>2</th>\n",
              "      <td>1</td>\n",
              "      <td>1425</td>\n",
              "      <td>1_雇用_賃上げ_賃金_最低賃金</td>\n",
              "    </tr>\n",
              "    <tr>\n",
              "      <th>3</th>\n",
              "      <td>2</td>\n",
              "      <td>1386</td>\n",
              "      <td>2_接種_ワクチン_副反応_高齢者</td>\n",
              "    </tr>\n",
              "    <tr>\n",
              "      <th>4</th>\n",
              "      <td>3</td>\n",
              "      <td>1006</td>\n",
              "      <td>3_消費税_課税_税制_法人税</td>\n",
              "    </tr>\n",
              "    <tr>\n",
              "      <th>5</th>\n",
              "      <td>4</td>\n",
              "      <td>859</td>\n",
              "      <td>4_病院_医療_医師_患者</td>\n",
              "    </tr>\n",
              "    <tr>\n",
              "      <th>6</th>\n",
              "      <td>5</td>\n",
              "      <td>725</td>\n",
              "      <td>5_ありがとう_ござい_まし_拍手</td>\n",
              "    </tr>\n",
              "    <tr>\n",
              "      <th>7</th>\n",
              "      <td>6</td>\n",
              "      <td>669</td>\n",
              "      <td>6_予算_補正予算_予備費_経費</td>\n",
              "    </tr>\n",
              "    <tr>\n",
              "      <th>8</th>\n",
              "      <td>7</td>\n",
              "      <td>641</td>\n",
              "      <td>7_学校_教員_学級_研修</td>\n",
              "    </tr>\n",
              "    <tr>\n",
              "      <th>9</th>\n",
              "      <td>8</td>\n",
              "      <td>629</td>\n",
              "      <td>8_原発_原子力_規制_稼働</td>\n",
              "    </tr>\n",
              "    <tr>\n",
              "      <th>10</th>\n",
              "      <td>9</td>\n",
              "      <td>590</td>\n",
              "      <td>9_ウクライナ_ロシア_侵略_侵攻</td>\n",
              "    </tr>\n",
              "    <tr>\n",
              "      <th>11</th>\n",
              "      <td>10</td>\n",
              "      <td>537</td>\n",
              "      <td>10_自治体_地方_地域_市町村</td>\n",
              "    </tr>\n",
              "    <tr>\n",
              "      <th>12</th>\n",
              "      <td>11</td>\n",
              "      <td>519</td>\n",
              "      <td>11_感染_感染者_感染拡大_検査</td>\n",
              "    </tr>\n",
              "    <tr>\n",
              "      <th>13</th>\n",
              "      <td>12</td>\n",
              "      <td>342</td>\n",
              "      <td>12_住宅_家賃_空き家_マンション</td>\n",
              "    </tr>\n",
              "    <tr>\n",
              "      <th>14</th>\n",
              "      <td>13</td>\n",
              "      <td>339</td>\n",
              "      <td>13_農業_農地_農家_担い手</td>\n",
              "    </tr>\n",
              "  </tbody>\n",
              "</table>\n",
              "</div>\n",
              "      <button class=\"colab-df-convert\" onclick=\"convertToInteractive('df-8df7c213-6316-4143-af45-528de8b12cb3')\"\n",
              "              title=\"Convert this dataframe to an interactive table.\"\n",
              "              style=\"display:none;\">\n",
              "        \n",
              "  <svg xmlns=\"http://www.w3.org/2000/svg\" height=\"24px\"viewBox=\"0 0 24 24\"\n",
              "       width=\"24px\">\n",
              "    <path d=\"M0 0h24v24H0V0z\" fill=\"none\"/>\n",
              "    <path d=\"M18.56 5.44l.94 2.06.94-2.06 2.06-.94-2.06-.94-.94-2.06-.94 2.06-2.06.94zm-11 1L8.5 8.5l.94-2.06 2.06-.94-2.06-.94L8.5 2.5l-.94 2.06-2.06.94zm10 10l.94 2.06.94-2.06 2.06-.94-2.06-.94-.94-2.06-.94 2.06-2.06.94z\"/><path d=\"M17.41 7.96l-1.37-1.37c-.4-.4-.92-.59-1.43-.59-.52 0-1.04.2-1.43.59L10.3 9.45l-7.72 7.72c-.78.78-.78 2.05 0 2.83L4 21.41c.39.39.9.59 1.41.59.51 0 1.02-.2 1.41-.59l7.78-7.78 2.81-2.81c.8-.78.8-2.07 0-2.86zM5.41 20L4 18.59l7.72-7.72 1.47 1.35L5.41 20z\"/>\n",
              "  </svg>\n",
              "      </button>\n",
              "      \n",
              "  <style>\n",
              "    .colab-df-container {\n",
              "      display:flex;\n",
              "      flex-wrap:wrap;\n",
              "      gap: 12px;\n",
              "    }\n",
              "\n",
              "    .colab-df-convert {\n",
              "      background-color: #E8F0FE;\n",
              "      border: none;\n",
              "      border-radius: 50%;\n",
              "      cursor: pointer;\n",
              "      display: none;\n",
              "      fill: #1967D2;\n",
              "      height: 32px;\n",
              "      padding: 0 0 0 0;\n",
              "      width: 32px;\n",
              "    }\n",
              "\n",
              "    .colab-df-convert:hover {\n",
              "      background-color: #E2EBFA;\n",
              "      box-shadow: 0px 1px 2px rgba(60, 64, 67, 0.3), 0px 1px 3px 1px rgba(60, 64, 67, 0.15);\n",
              "      fill: #174EA6;\n",
              "    }\n",
              "\n",
              "    [theme=dark] .colab-df-convert {\n",
              "      background-color: #3B4455;\n",
              "      fill: #D2E3FC;\n",
              "    }\n",
              "\n",
              "    [theme=dark] .colab-df-convert:hover {\n",
              "      background-color: #434B5C;\n",
              "      box-shadow: 0px 1px 3px 1px rgba(0, 0, 0, 0.15);\n",
              "      filter: drop-shadow(0px 1px 2px rgba(0, 0, 0, 0.3));\n",
              "      fill: #FFFFFF;\n",
              "    }\n",
              "  </style>\n",
              "\n",
              "      <script>\n",
              "        const buttonEl =\n",
              "          document.querySelector('#df-8df7c213-6316-4143-af45-528de8b12cb3 button.colab-df-convert');\n",
              "        buttonEl.style.display =\n",
              "          google.colab.kernel.accessAllowed ? 'block' : 'none';\n",
              "\n",
              "        async function convertToInteractive(key) {\n",
              "          const element = document.querySelector('#df-8df7c213-6316-4143-af45-528de8b12cb3');\n",
              "          const dataTable =\n",
              "            await google.colab.kernel.invokeFunction('convertToInteractive',\n",
              "                                                     [key], {});\n",
              "          if (!dataTable) return;\n",
              "\n",
              "          const docLinkHtml = 'Like what you see? Visit the ' +\n",
              "            '<a target=\"_blank\" href=https://colab.research.google.com/notebooks/data_table.ipynb>data table notebook</a>'\n",
              "            + ' to learn more about interactive tables.';\n",
              "          element.innerHTML = '';\n",
              "          dataTable['output_type'] = 'display_data';\n",
              "          await google.colab.output.renderOutput(dataTable, element);\n",
              "          const docLink = document.createElement('div');\n",
              "          docLink.innerHTML = docLinkHtml;\n",
              "          element.appendChild(docLink);\n",
              "        }\n",
              "      </script>\n",
              "    </div>\n",
              "  </div>\n",
              "  "
            ]
          },
          "metadata": {},
          "execution_count": 30
        }
      ]
    },
    {
      "cell_type": "code",
      "source": [
        "docs = all['speech'].to_list()\n",
        "len(docs)"
      ],
      "metadata": {
        "colab": {
          "base_uri": "https://localhost:8080/"
        },
        "id": "Nk0F9AEHwdZk",
        "outputId": "a64db465-eb78-4e54-c00a-53166bf9692b"
      },
      "execution_count": 8,
      "outputs": [
        {
          "output_type": "execute_result",
          "data": {
            "text/plain": [
              "71357"
            ]
          },
          "metadata": {},
          "execution_count": 8
        }
      ]
    },
    {
      "cell_type": "code",
      "source": [
        "classes = all[\"committee\"].to_list()"
      ],
      "metadata": {
        "id": "ZZVRjNPewWWi"
      },
      "execution_count": 9,
      "outputs": []
    },
    {
      "cell_type": "code",
      "source": [
        "# Reduce the number of committees in the dataframe\n",
        "num_comm = 10\n",
        "target_comm = all[\"committee\"].value_counts()[:num_comm].index.tolist()"
      ],
      "metadata": {
        "id": "ERJlNduByOCG"
      },
      "execution_count": 10,
      "outputs": []
    },
    {
      "cell_type": "code",
      "source": [
        "doc_info = topic_model.get_document_info(docs)"
      ],
      "metadata": {
        "id": "4difUslV3MU2"
      },
      "execution_count": 11,
      "outputs": []
    },
    {
      "cell_type": "code",
      "source": [
        "allm = pd.concat([all.reset_index(drop=True),doc_info],axis=1,ignore_index=True)\n",
        "allm.columns=list(all.columns)+list(doc_info.columns)"
      ],
      "metadata": {
        "id": "UXuWmsZV0pMz"
      },
      "execution_count": 65,
      "outputs": []
    },
    {
      "cell_type": "code",
      "source": [
        "allm[\"classes\"] = np.where(allm[\"committee\"].isin(target_comm), allm[\"committee\"], \"その他\")"
      ],
      "metadata": {
        "id": "VLSd-RPQ4dhZ"
      },
      "execution_count": 66,
      "outputs": []
    },
    {
      "cell_type": "code",
      "source": [
        "allm = allm[(allm[\"Topic\"] != -1) & (allm[\"Topic\"] != 0) & (allm[\"Topic\"] != 5)]"
      ],
      "metadata": {
        "id": "RCiJY1K053dn"
      },
      "execution_count": 67,
      "outputs": []
    },
    {
      "cell_type": "code",
      "source": [
        "trans = Translator()\n",
        "\n",
        "result = pd.DataFrame(allm.groupby('classes')['Name'].value_counts().groupby(level=0).nlargest(1))\n",
        "result.columns = [\"Count\"]\n",
        "result.index.names = [\"0\", \"Committee\", \"Topic\"]\n",
        "result = result.reset_index()\n",
        "result = result.iloc[:,1:4]\n",
        "result[\"Topic_t\"] = [\" \".join([trans.translate(k).text for k in t.split(\"_\")]) for t in result[\"Topic\"]]"
      ],
      "metadata": {
        "id": "tIF-XNa75E6_"
      },
      "execution_count": 71,
      "outputs": []
    },
    {
      "cell_type": "code",
      "source": [
        "result"
      ],
      "metadata": {
        "colab": {
          "base_uri": "https://localhost:8080/",
          "height": 394
        },
        "id": "Pas9FoA2BLCA",
        "outputId": "4431c818-18c7-4ee3-c4cf-05eb6986132c"
      },
      "execution_count": 72,
      "outputs": [
        {
          "output_type": "execute_result",
          "data": {
            "text/plain": [
              "   Committee               Topic  Count  \\\n",
              "0        その他       7_学校_教員_学級_研修    478   \n",
              "1      予算委員会   2_接種_ワクチン_副反応_高齢者    314   \n",
              "2      内閣委員会    1_雇用_賃上げ_賃金_最低賃金    167   \n",
              "3    厚生労働委員会   2_接種_ワクチン_副反応_高齢者    570   \n",
              "4    国土交通委員会  12_住宅_家賃_空き家_マンション    143   \n",
              "5      外務委員会   9_ウクライナ_ロシア_侵略_侵攻    173   \n",
              "6      法務委員会     25_裁判_判決_裁判官_審理    144   \n",
              "7    経済産業委員会      8_原発_原子力_規制_稼働    143   \n",
              "8      総務委員会    24_nhk_受信料_放送_会長    214   \n",
              "9    財務金融委員会     3_消費税_課税_税制_法人税    390   \n",
              "10   農林水産委員会     13_農業_農地_農家_担い手    227   \n",
              "\n",
              "                                              Topic_t  \n",
              "0                     7 School teacher class training  \n",
              "1   2 inoculation vaccination side reaction senior...  \n",
              "2        1 employment wage increase wage minimum wage  \n",
              "3   2 inoculation vaccination side reaction senior...  \n",
              "4               12 housing rent empty house apartment  \n",
              "5                9 Ukraine Russia aggression invasion  \n",
              "6                       25 trial judgment judge trial  \n",
              "7   8 nuclear power plant nuclear power regulation...  \n",
              "8             24 nhk reception fee broadcast chairman  \n",
              "9        3 sale tax taxation tax system Corporate tax  \n",
              "10              13 agriculture farmland farmer bearer  "
            ],
            "text/html": [
              "\n",
              "  <div id=\"df-75605227-e0ec-4451-859c-d8d10f672a90\">\n",
              "    <div class=\"colab-df-container\">\n",
              "      <div>\n",
              "<style scoped>\n",
              "    .dataframe tbody tr th:only-of-type {\n",
              "        vertical-align: middle;\n",
              "    }\n",
              "\n",
              "    .dataframe tbody tr th {\n",
              "        vertical-align: top;\n",
              "    }\n",
              "\n",
              "    .dataframe thead th {\n",
              "        text-align: right;\n",
              "    }\n",
              "</style>\n",
              "<table border=\"1\" class=\"dataframe\">\n",
              "  <thead>\n",
              "    <tr style=\"text-align: right;\">\n",
              "      <th></th>\n",
              "      <th>Committee</th>\n",
              "      <th>Topic</th>\n",
              "      <th>Count</th>\n",
              "      <th>Topic_t</th>\n",
              "    </tr>\n",
              "  </thead>\n",
              "  <tbody>\n",
              "    <tr>\n",
              "      <th>0</th>\n",
              "      <td>その他</td>\n",
              "      <td>7_学校_教員_学級_研修</td>\n",
              "      <td>478</td>\n",
              "      <td>7 School teacher class training</td>\n",
              "    </tr>\n",
              "    <tr>\n",
              "      <th>1</th>\n",
              "      <td>予算委員会</td>\n",
              "      <td>2_接種_ワクチン_副反応_高齢者</td>\n",
              "      <td>314</td>\n",
              "      <td>2 inoculation vaccination side reaction senior...</td>\n",
              "    </tr>\n",
              "    <tr>\n",
              "      <th>2</th>\n",
              "      <td>内閣委員会</td>\n",
              "      <td>1_雇用_賃上げ_賃金_最低賃金</td>\n",
              "      <td>167</td>\n",
              "      <td>1 employment wage increase wage minimum wage</td>\n",
              "    </tr>\n",
              "    <tr>\n",
              "      <th>3</th>\n",
              "      <td>厚生労働委員会</td>\n",
              "      <td>2_接種_ワクチン_副反応_高齢者</td>\n",
              "      <td>570</td>\n",
              "      <td>2 inoculation vaccination side reaction senior...</td>\n",
              "    </tr>\n",
              "    <tr>\n",
              "      <th>4</th>\n",
              "      <td>国土交通委員会</td>\n",
              "      <td>12_住宅_家賃_空き家_マンション</td>\n",
              "      <td>143</td>\n",
              "      <td>12 housing rent empty house apartment</td>\n",
              "    </tr>\n",
              "    <tr>\n",
              "      <th>5</th>\n",
              "      <td>外務委員会</td>\n",
              "      <td>9_ウクライナ_ロシア_侵略_侵攻</td>\n",
              "      <td>173</td>\n",
              "      <td>9 Ukraine Russia aggression invasion</td>\n",
              "    </tr>\n",
              "    <tr>\n",
              "      <th>6</th>\n",
              "      <td>法務委員会</td>\n",
              "      <td>25_裁判_判決_裁判官_審理</td>\n",
              "      <td>144</td>\n",
              "      <td>25 trial judgment judge trial</td>\n",
              "    </tr>\n",
              "    <tr>\n",
              "      <th>7</th>\n",
              "      <td>経済産業委員会</td>\n",
              "      <td>8_原発_原子力_規制_稼働</td>\n",
              "      <td>143</td>\n",
              "      <td>8 nuclear power plant nuclear power regulation...</td>\n",
              "    </tr>\n",
              "    <tr>\n",
              "      <th>8</th>\n",
              "      <td>総務委員会</td>\n",
              "      <td>24_nhk_受信料_放送_会長</td>\n",
              "      <td>214</td>\n",
              "      <td>24 nhk reception fee broadcast chairman</td>\n",
              "    </tr>\n",
              "    <tr>\n",
              "      <th>9</th>\n",
              "      <td>財務金融委員会</td>\n",
              "      <td>3_消費税_課税_税制_法人税</td>\n",
              "      <td>390</td>\n",
              "      <td>3 sale tax taxation tax system Corporate tax</td>\n",
              "    </tr>\n",
              "    <tr>\n",
              "      <th>10</th>\n",
              "      <td>農林水産委員会</td>\n",
              "      <td>13_農業_農地_農家_担い手</td>\n",
              "      <td>227</td>\n",
              "      <td>13 agriculture farmland farmer bearer</td>\n",
              "    </tr>\n",
              "  </tbody>\n",
              "</table>\n",
              "</div>\n",
              "      <button class=\"colab-df-convert\" onclick=\"convertToInteractive('df-75605227-e0ec-4451-859c-d8d10f672a90')\"\n",
              "              title=\"Convert this dataframe to an interactive table.\"\n",
              "              style=\"display:none;\">\n",
              "        \n",
              "  <svg xmlns=\"http://www.w3.org/2000/svg\" height=\"24px\"viewBox=\"0 0 24 24\"\n",
              "       width=\"24px\">\n",
              "    <path d=\"M0 0h24v24H0V0z\" fill=\"none\"/>\n",
              "    <path d=\"M18.56 5.44l.94 2.06.94-2.06 2.06-.94-2.06-.94-.94-2.06-.94 2.06-2.06.94zm-11 1L8.5 8.5l.94-2.06 2.06-.94-2.06-.94L8.5 2.5l-.94 2.06-2.06.94zm10 10l.94 2.06.94-2.06 2.06-.94-2.06-.94-.94-2.06-.94 2.06-2.06.94z\"/><path d=\"M17.41 7.96l-1.37-1.37c-.4-.4-.92-.59-1.43-.59-.52 0-1.04.2-1.43.59L10.3 9.45l-7.72 7.72c-.78.78-.78 2.05 0 2.83L4 21.41c.39.39.9.59 1.41.59.51 0 1.02-.2 1.41-.59l7.78-7.78 2.81-2.81c.8-.78.8-2.07 0-2.86zM5.41 20L4 18.59l7.72-7.72 1.47 1.35L5.41 20z\"/>\n",
              "  </svg>\n",
              "      </button>\n",
              "      \n",
              "  <style>\n",
              "    .colab-df-container {\n",
              "      display:flex;\n",
              "      flex-wrap:wrap;\n",
              "      gap: 12px;\n",
              "    }\n",
              "\n",
              "    .colab-df-convert {\n",
              "      background-color: #E8F0FE;\n",
              "      border: none;\n",
              "      border-radius: 50%;\n",
              "      cursor: pointer;\n",
              "      display: none;\n",
              "      fill: #1967D2;\n",
              "      height: 32px;\n",
              "      padding: 0 0 0 0;\n",
              "      width: 32px;\n",
              "    }\n",
              "\n",
              "    .colab-df-convert:hover {\n",
              "      background-color: #E2EBFA;\n",
              "      box-shadow: 0px 1px 2px rgba(60, 64, 67, 0.3), 0px 1px 3px 1px rgba(60, 64, 67, 0.15);\n",
              "      fill: #174EA6;\n",
              "    }\n",
              "\n",
              "    [theme=dark] .colab-df-convert {\n",
              "      background-color: #3B4455;\n",
              "      fill: #D2E3FC;\n",
              "    }\n",
              "\n",
              "    [theme=dark] .colab-df-convert:hover {\n",
              "      background-color: #434B5C;\n",
              "      box-shadow: 0px 1px 3px 1px rgba(0, 0, 0, 0.15);\n",
              "      filter: drop-shadow(0px 1px 2px rgba(0, 0, 0, 0.3));\n",
              "      fill: #FFFFFF;\n",
              "    }\n",
              "  </style>\n",
              "\n",
              "      <script>\n",
              "        const buttonEl =\n",
              "          document.querySelector('#df-75605227-e0ec-4451-859c-d8d10f672a90 button.colab-df-convert');\n",
              "        buttonEl.style.display =\n",
              "          google.colab.kernel.accessAllowed ? 'block' : 'none';\n",
              "\n",
              "        async function convertToInteractive(key) {\n",
              "          const element = document.querySelector('#df-75605227-e0ec-4451-859c-d8d10f672a90');\n",
              "          const dataTable =\n",
              "            await google.colab.kernel.invokeFunction('convertToInteractive',\n",
              "                                                     [key], {});\n",
              "          if (!dataTable) return;\n",
              "\n",
              "          const docLinkHtml = 'Like what you see? Visit the ' +\n",
              "            '<a target=\"_blank\" href=https://colab.research.google.com/notebooks/data_table.ipynb>data table notebook</a>'\n",
              "            + ' to learn more about interactive tables.';\n",
              "          element.innerHTML = '';\n",
              "          dataTable['output_type'] = 'display_data';\n",
              "          await google.colab.output.renderOutput(dataTable, element);\n",
              "          const docLink = document.createElement('div');\n",
              "          docLink.innerHTML = docLinkHtml;\n",
              "          element.appendChild(docLink);\n",
              "        }\n",
              "      </script>\n",
              "    </div>\n",
              "  </div>\n",
              "  "
            ]
          },
          "metadata": {},
          "execution_count": 72
        }
      ]
    },
    {
      "cell_type": "code",
      "source": [
        "result = pd.DataFrame(allm.groupby('classes')['Name'].value_counts().groupby(level=0).nlargest(1))\n",
        "result.columns = [\"Count\"]\n",
        "result.index.names = [\"0\", \"Committee\", \"Topic\"]\n",
        "result = result.reset_index()\n",
        "result = result.iloc[:,1:3]"
      ],
      "metadata": {
        "id": "whoqpJv6Auca"
      },
      "execution_count": null,
      "outputs": []
    },
    {
      "cell_type": "code",
      "source": [
        "allmm = pd.concat([allm.reset_index(drop=True),pd.Series(classes).to_frame().T],axis=1,ignore_index=True)\n",
        "allmm"
      ],
      "metadata": {
        "id": "HO5a6Wjb3Y0D"
      },
      "execution_count": null,
      "outputs": []
    },
    {
      "cell_type": "code",
      "source": [
        "topics_per_class = topic_model.topics_per_class(docs, classes=classes)"
      ],
      "metadata": {
        "colab": {
          "base_uri": "https://localhost:8080/"
        },
        "id": "h-HKrv6EwJh8",
        "outputId": "b6f4fdee-f5e3-437d-ba65-9ba9819cc039"
      },
      "execution_count": 11,
      "outputs": [
        {
          "output_type": "stream",
          "name": "stderr",
          "text": [
            "11it [00:12,  1.11s/it]\n"
          ]
        }
      ]
    },
    {
      "cell_type": "code",
      "source": [
        "topic_model.visualize_topics_per_class(topics_per_class, topics=[i for i in range(11) if i!=0 and i!=5])"
      ],
      "metadata": {
        "colab": {
          "base_uri": "https://localhost:8080/",
          "height": 937
        },
        "id": "IMToJ9NBwmf3",
        "outputId": "7c2b90e8-4ed5-444e-ca2b-2accf9398b72"
      },
      "execution_count": 16,
      "outputs": [
        {
          "output_type": "display_data",
          "data": {
            "text/html": [
              "<html>\n",
              "<head><meta charset=\"utf-8\" /></head>\n",
              "<body>\n",
              "    <div>            <script src=\"https://cdnjs.cloudflare.com/ajax/libs/mathjax/2.7.5/MathJax.js?config=TeX-AMS-MML_SVG\"></script><script type=\"text/javascript\">if (window.MathJax && window.MathJax.Hub && window.MathJax.Hub.Config) {window.MathJax.Hub.Config({SVG: {font: \"STIX-Web\"}});}</script>                <script type=\"text/javascript\">window.PlotlyConfig = {MathJaxConfig: 'local'};</script>\n",
              "        <script src=\"https://cdn.plot.ly/plotly-2.18.2.min.js\"></script>                <div id=\"c7ca0a59-f195-4cc1-9535-e341396f2f4c\" class=\"plotly-graph-div\" style=\"height:900px; width:1250px;\"></div>            <script type=\"text/javascript\">                                    window.PLOTLYENV=window.PLOTLYENV || {};                                    if (document.getElementById(\"c7ca0a59-f195-4cc1-9535-e341396f2f4c\")) {                    Plotly.newPlot(                        \"c7ca0a59-f195-4cc1-9535-e341396f2f4c\",                        [{\"hoverinfo\":\"text\",\"hovertext\":[\"<b>Topic 1</b><br>Words: \\u96c7\\u7528, \\u8cc3\\u91d1, \\u30d5\\u30ea\\u30fc\\u30e9\\u30f3\\u30b9, \\u975e\\u6b63\\u898f, \\u6700\\u4f4e\\u8cc3\\u91d1\",\"<b>Topic 1</b><br>Words: \\u8cc3\\u4e0a\\u3052, \\u8cc3\\u91d1, \\u6700\\u4f4e\\u8cc3\\u91d1, \\u7a0e\\u5236, \\u96c7\\u7528\",\"<b>Topic 1</b><br>Words: \\u4f1a\\u8a08\\u5e74\\u5ea6, \\u4efb\\u7528, \\u6797\\u696d, \\u8077\\u54e1, \\u624b\\u5f53\",\"<b>Topic 1</b><br>Words: \\u8cc3\\u4e0a\\u3052, \\u96c7\\u7528, \\u8cc3\\u91d1, \\u4f01\\u696d, \\u50cd\\u304d\",\"<b>Topic 1</b><br>Words: \\u8cc3\\u4e0a\\u3052, \\u8cc3\\u91d1, \\u96c7\\u7528, \\u6700\\u4f4e\\u8cc3\\u91d1, \\u52b4\\u50cd\\u8005\",\"<b>Topic 1</b><br>Words: \\u7d66\\u4e0e, \\u516c\\u52d9\\u54e1, \\u56fd\\u5bb6\\u516c\\u52d9\\u54e1, \\u8077\\u54e1, \\u8cc3\\u4e0a\\u3052\",\"<b>Topic 1</b><br>Words: \\u5728\\u7559\\u8cc7\\u683c, \\u96c7\\u7528, \\u4ed5\\u4e8b, \\u65e5\\u672c\\u8a9e\\u6559\\u80b2, \\u30ed\\u30b7\\u30a2\\u4eba\",\"<b>Topic 1</b><br>Words: \\u96c7\\u7528, \\u96c7\\u7528\\u4fdd\\u967a, \\u52b4\\u50cd\\u8005, \\u96c7\\u7528\\u8abf\\u6574\\u52a9\\u6210\\u91d1, \\u8cc3\\u91d1\",\"<b>Topic 1</b><br>Words: \\u8077\\u54e1, \\u624b\\u5f53, \\u8cc3\\u4e0a\\u3052, \\u65e5\\u672c\\u90f5\\u4fbf, \\u8cc3\\u91d1\",\"<b>Topic 1</b><br>Words: \\u52b4\\u50cd\\u6642\\u9593, \\u96c7\\u7528, \\u8cc3\\u91d1, \\u96c7\\u7528\\u8abf\\u6574\\u52a9\\u6210\\u91d1, \\u8239\\u54e1\",\"<b>Topic 1</b><br>Words: \\u968a\\u820e, \\u52b4\\u52d9\\u8cbb, \\u96c7\\u7528, \\u5728\\u5916, \\u76e3\\u7406\"],\"marker\":{\"color\":\"#E69F00\"},\"name\":\"1_\\u96c7\\u7528_\\u8cc3\\u4e0a\\u3052_\\u8cc3\\u91d1_\\u6700\\u4f4e\\u8cc3\\u91d1\",\"orientation\":\"h\",\"visible\":true,\"x\":[68,102,14,250,212,167,29,428,89,50,16],\"y\":[\"\\u7d4c\\u6e08\\u7523\\u696d\\u59d4\\u54e1\\u4f1a\",\"\\u8ca1\\u52d9\\u91d1\\u878d\\u59d4\\u54e1\\u4f1a\",\"\\u8fb2\\u6797\\u6c34\\u7523\\u59d4\\u54e1\\u4f1a\",\"\\u305d\\u306e\\u4ed6\",\"\\u4e88\\u7b97\\u59d4\\u54e1\\u4f1a\",\"\\u5185\\u95a3\\u59d4\\u54e1\\u4f1a\",\"\\u6cd5\\u52d9\\u59d4\\u54e1\\u4f1a\",\"\\u539a\\u751f\\u52b4\\u50cd\\u59d4\\u54e1\\u4f1a\",\"\\u7dcf\\u52d9\\u59d4\\u54e1\\u4f1a\",\"\\u56fd\\u571f\\u4ea4\\u901a\\u59d4\\u54e1\\u4f1a\",\"\\u5916\\u52d9\\u59d4\\u54e1\\u4f1a\"],\"type\":\"bar\"},{\"hoverinfo\":\"text\",\"hovertext\":[\"<b>Topic 2</b><br>Words: \\u30ef\\u30af\\u30c1\\u30f3, jic, \\u63a5\\u7a2e, \\u7bc0\\u96fb, \\u88fd\\u9020\",\"<b>Topic 2</b><br>Words: \\u30ef\\u30af\\u30c1\\u30f3, \\u63a5\\u7a2e, \\u5bcc\\u88d5\\u7a0e, \\u5730\\u6bbb, \\u30d1\\u30b9\\u30dd\\u30fc\\u30c8\",\"<b>Topic 2</b><br>Words: \\u30ef\\u30af\\u30c1\\u30f3, \\u63a5\\u7a2e, \\u6e05\\u6d44, \\u9632\\u75ab, \\u8c5a\\u71b1\",\"<b>Topic 2</b><br>Words: \\u63a5\\u7a2e, \\u30ef\\u30af\\u30c1\\u30f3, \\u526f\\u53cd\\u5fdc, \\u30d5\\u30a1\\u30a4\\u30b6\\u30fc, \\u81ea\\u6cbb\\u4f53\",\"<b>Topic 2</b><br>Words: \\u63a5\\u7a2e, \\u30ef\\u30af\\u30c1\\u30f3, \\u526f\\u53cd\\u5fdc, \\u6cb3\\u91ce, \\u30d5\\u30a1\\u30a4\\u30b6\\u30fc\",\"<b>Topic 2</b><br>Words: \\u63a5\\u7a2e, \\u30ef\\u30af\\u30c1\\u30f3, \\u6cb3\\u91ce, \\u9ad8\\u9f62\\u8005, \\u81ea\\u6cbb\\u4f53\",\"<b>Topic 2</b><br>Words: \\u3042\\u3059, \\u30ef\\u30af\\u30c1\\u30f3, \\u3042\\u304a\\u308a\\u904b\\u8ee2, \\u63a5\\u7a2e, \\u6cd5\\u52d9\\u5927\\u81e3\",\"<b>Topic 2</b><br>Words: \\u30ef\\u30af\\u30c1\\u30f3, \\u63a5\\u7a2e, \\u526f\\u53cd\\u5fdc, \\u30d5\\u30a1\\u30a4\\u30b6\\u30fc, \\u6253\\u3063\",\"<b>Topic 2</b><br>Words: \\u63a5\\u7a2e, \\u30ef\\u30af\\u30c1\\u30f3, \\u81ea\\u6cbb\\u4f53, \\u9ad8\\u9f62\\u8005, \\u6cb3\\u91ce\",\"<b>Topic 2</b><br>Words: \\u30ef\\u30af\\u30c1\\u30f3, \\u63a5\\u7a2e, \\u65c5\\u884c, \\u8239\\u54e1, \\u6253\\u3063\",\"<b>Topic 2</b><br>Words: \\u30ef\\u30af\\u30c1\\u30f3, \\u63a5\\u7a2e, \\u4f9b\\u4e0e, \\u958b\\u767a, \\u306f\\u3057\\u304b\"],\"marker\":{\"color\":\"#56B4E9\"},\"name\":\"2_\\u63a5\\u7a2e_\\u30ef\\u30af\\u30c1\\u30f3_\\u526f\\u53cd\\u5fdc_\\u9ad8\\u9f62\\u8005\",\"orientation\":\"h\",\"visible\":\"legendonly\",\"x\":[9,8,11,236,314,147,3,570,41,28,19],\"y\":[\"\\u7d4c\\u6e08\\u7523\\u696d\\u59d4\\u54e1\\u4f1a\",\"\\u8ca1\\u52d9\\u91d1\\u878d\\u59d4\\u54e1\\u4f1a\",\"\\u8fb2\\u6797\\u6c34\\u7523\\u59d4\\u54e1\\u4f1a\",\"\\u305d\\u306e\\u4ed6\",\"\\u4e88\\u7b97\\u59d4\\u54e1\\u4f1a\",\"\\u5185\\u95a3\\u59d4\\u54e1\\u4f1a\",\"\\u6cd5\\u52d9\\u59d4\\u54e1\\u4f1a\",\"\\u539a\\u751f\\u52b4\\u50cd\\u59d4\\u54e1\\u4f1a\",\"\\u7dcf\\u52d9\\u59d4\\u54e1\\u4f1a\",\"\\u56fd\\u571f\\u4ea4\\u901a\\u59d4\\u54e1\\u4f1a\",\"\\u5916\\u52d9\\u59d4\\u54e1\\u4f1a\"],\"type\":\"bar\"},{\"hoverinfo\":\"text\",\"hovertext\":[\"<b>Topic 3</b><br>Words: \\u6d88\\u8cbb\\u7a0e, \\u6e1b\\u7a0e, \\u5c0f\\u898f\\u6a21, \\u30a4\\u30f3\\u30dc\\u30a4\\u30b9, \\u8ab2\\u7a0e\",\"<b>Topic 3</b><br>Words: \\u8ab2\\u7a0e, \\u6d88\\u8cbb\\u7a0e, \\u30a4\\u30f3\\u30dc\\u30a4\\u30b9, \\u6cd5\\u4eba\\u7a0e, \\u7a0e\\u5236\",\"<b>Topic 3</b><br>Words: \\u98fc\\u6599, \\u5927\\u8c46, \\u30a4\\u30f3\\u30dc\\u30a4\\u30b9, \\u7279\\u533a, \\u6e05\\u9152\",\"<b>Topic 3</b><br>Words: \\u6d88\\u8cbb\\u7a0e, \\u7a0e\\u5236, \\u8ab2\\u7a0e, \\u5730\\u65b9, \\u9084\\u4ed8\",\"<b>Topic 3</b><br>Words: \\u6d88\\u8cbb\\u7a0e, \\u5897\\u7a0e, \\u8ab2\\u7a0e, \\u6e1b\\u7a0e, \\u7a0e\\u53ce\",\"<b>Topic 3</b><br>Words: \\u6d88\\u8cbb\\u7a0e, \\u6e1b\\u7a0e, \\u8ab2\\u7a0e, \\u8ca1\\u6e90, \\u30a4\\u30f3\\u30dc\\u30a4\\u30b9\",\"<b>Topic 3</b><br>Words: \\u767b\\u8a18, \\u514d\\u7a0e, \\u767b\\u9332\\u514d\\u8a31\\u7a0e, \\u79fb\\u8ee2\\u767b\\u8a18, \\u76f8\\u7d9a\",\"<b>Topic 3</b><br>Words: \\u975e\\u8ab2\\u7a0e, \\u6d88\\u8cbb\\u7a0e, \\u4f4f\\u6c11\\u7a0e, \\u8ab2\\u7a0e, \\u7a0e\\u52d9\\u7f72\",\"<b>Topic 3</b><br>Words: \\u5730\\u65b9\\u4ea4\\u4ed8\\u7a0e, \\u8ca1\\u6e90, \\u5730\\u65b9, \\u4ea4\\u4ed8\\u7a0e, \\u5730\\u65b9\\u8ca1\\u653f\",\"<b>Topic 3</b><br>Words: \\u8ab2\\u7a0e, \\u56fa\\u5b9a\\u8cc7\\u7523\\u7a0e, saf, \\u6d88\\u8cbb\\u7a0e, \\u7a0e\\u5236\",\"<b>Topic 3</b><br>Words: \\u79df\\u7a0e\\u6761\\u7d04, \\u8ab2\\u7a0e, \\u6e90\\u6cc9, \\u6761\\u7d04, aoa\"],\"marker\":{\"color\":\"#009E73\"},\"name\":\"3_\\u6d88\\u8cbb\\u7a0e_\\u8ab2\\u7a0e_\\u7a0e\\u5236_\\u6cd5\\u4eba\\u7a0e\",\"orientation\":\"h\",\"visible\":\"legendonly\",\"x\":[36,390,7,160,101,64,2,17,182,30,17],\"y\":[\"\\u7d4c\\u6e08\\u7523\\u696d\\u59d4\\u54e1\\u4f1a\",\"\\u8ca1\\u52d9\\u91d1\\u878d\\u59d4\\u54e1\\u4f1a\",\"\\u8fb2\\u6797\\u6c34\\u7523\\u59d4\\u54e1\\u4f1a\",\"\\u305d\\u306e\\u4ed6\",\"\\u4e88\\u7b97\\u59d4\\u54e1\\u4f1a\",\"\\u5185\\u95a3\\u59d4\\u54e1\\u4f1a\",\"\\u6cd5\\u52d9\\u59d4\\u54e1\\u4f1a\",\"\\u539a\\u751f\\u52b4\\u50cd\\u59d4\\u54e1\\u4f1a\",\"\\u7dcf\\u52d9\\u59d4\\u54e1\\u4f1a\",\"\\u56fd\\u571f\\u4ea4\\u901a\\u59d4\\u54e1\\u4f1a\",\"\\u5916\\u52d9\\u59d4\\u54e1\\u4f1a\"],\"type\":\"bar\"},{\"hoverinfo\":\"text\",\"hovertext\":[\"<b>Topic 4</b><br>Words: \\u75c5\\u9662, bcp, \\u75db\\u3044, \\u533b\\u7642, \\u3069\\u308c\",\"<b>Topic 4</b><br>Words: \\u5bb6\\u8cc3, \\u8ca0\\u3063, \\u30d7\\u30ed\\u30e2\\u30fc\\u30b7\\u30e7\\u30f3, cdc, \\u3054\\u307e\\u3093\\u3068\",\"<b>Topic 4</b><br>Words: \\u52d5\\u7269, \\u308f\\u304b\\u3089, \\u990a\\u9d8f, \\u3042\\u304a\\u308b, \\u7d20\\u6734\",\"<b>Topic 4</b><br>Words: \\u75c5\\u9662, \\u533b\\u7642, \\u533b\\u5e2b, \\u75c5\\u5e8a, \\u60a3\\u8005\",\"<b>Topic 4</b><br>Words: \\u75c5\\u9662, \\u60a3\\u8005, \\u533b\\u7642, \\u533b\\u5e2b, \\u75c5\\u5e8a\",\"<b>Topic 4</b><br>Words: \\u75c5\\u9662, \\u533b\\u7642, \\u75c5\\u5e8a, \\u60a3\\u8005, \\u533b\\u7642\\u6a5f\\u95a2\",\"<b>Topic 4</b><br>Words: \\u6839\\u6cbb, \\u5165\\u7ba1, \\u624b\\u8853, \\u533b\\u7642, \\u533b\\u5e2b\",\"<b>Topic 4</b><br>Words: \\u75c5\\u9662, \\u533b\\u7642, \\u533b\\u5e2b, \\u304b\\u304b\\u308a\\u3064\\u3051\\u533b, \\u60a3\\u8005\",\"<b>Topic 4</b><br>Words: \\u75c5\\u9662, \\u516c\\u7acb\\u75c5\\u9662, \\u533b\\u7642\\u6a5f\\u95a2, \\u5730\\u57df\\u533b\\u7642, \\u75c5\\u5e8a\",\"<b>Topic 4</b><br>Words: \\u4e57\\u308a\\u5207\\u3063, \\u9077\\u5ef6\\u6027\\u610f\\u8b58\\u969c\\u5bb3, \\u63d0\\u8a00, \\u30ab\\u30d0\\u30fc\\u7387, \\u5206\\u79d1\\u4f1a\",\"<b>Topic 4</b><br>Words: \\u533b\\u52d9\\u5b98, \\u5728\\u5916\\u516c\\u9928, \\u5916\\u52d9\\u7701, \\u73fe\\u5730, \\u907f\\u96e3\"],\"marker\":{\"color\":\"#F0E442\"},\"name\":\"4_\\u75c5\\u9662_\\u533b\\u7642_\\u533b\\u5e2b_\\u60a3\\u8005\",\"orientation\":\"h\",\"visible\":\"legendonly\",\"x\":[6,3,1,189,113,60,44,379,55,3,6],\"y\":[\"\\u7d4c\\u6e08\\u7523\\u696d\\u59d4\\u54e1\\u4f1a\",\"\\u8ca1\\u52d9\\u91d1\\u878d\\u59d4\\u54e1\\u4f1a\",\"\\u8fb2\\u6797\\u6c34\\u7523\\u59d4\\u54e1\\u4f1a\",\"\\u305d\\u306e\\u4ed6\",\"\\u4e88\\u7b97\\u59d4\\u54e1\\u4f1a\",\"\\u5185\\u95a3\\u59d4\\u54e1\\u4f1a\",\"\\u6cd5\\u52d9\\u59d4\\u54e1\\u4f1a\",\"\\u539a\\u751f\\u52b4\\u50cd\\u59d4\\u54e1\\u4f1a\",\"\\u7dcf\\u52d9\\u59d4\\u54e1\\u4f1a\",\"\\u56fd\\u571f\\u4ea4\\u901a\\u59d4\\u54e1\\u4f1a\",\"\\u5916\\u52d9\\u59d4\\u54e1\\u4f1a\"],\"type\":\"bar\"},{\"hoverinfo\":\"text\",\"hovertext\":[\"<b>Topic 6</b><br>Words: \\u4e88\\u7b97, \\u4e8b\\u52d9, \\u88dc\\u6b63\\u4e88\\u7b97, \\u672c\\u4e88\\u7b97, \\u88dc\\u6b63\",\"<b>Topic 6</b><br>Words: \\u4e88\\u7b97, \\u88dc\\u6b63\\u4e88\\u7b97, \\u88dc\\u6b63, \\u4e88\\u5099\\u8cbb, \\u5e74\\u5ea6\",\"<b>Topic 6</b><br>Words: \\u4e88\\u7b97, \\u30a2\\u30fc\\u30eb, \\u5730\\u65b9\\u7af6\\u99ac, \\u88dc\\u6b63\\u4e88\\u7b97, \\u30a4\\u30f3\\u30bf\\u30fc\\u30cd\\u30c3\\u30c8\",\"<b>Topic 6</b><br>Words: \\u4e88\\u7b97, \\u7d4c\\u8cbb, \\u4e88\\u5099\\u8cbb, \\u88dc\\u6b63\\u4e88\\u7b97, \\u8a08\\u4e0a\",\"<b>Topic 6</b><br>Words: \\u4e88\\u7b97, \\u88dc\\u6b63\\u4e88\\u7b97, \\u4e88\\u5099\\u8cbb, \\u57fa\\u91d1, \\u7dcf\\u7406\",\"<b>Topic 6</b><br>Words: \\u4e88\\u7b97, \\u4e88\\u5099\\u8cbb, \\u88dc\\u6b63\\u4e88\\u7b97, \\u88dc\\u6b63, \\u5e74\\u5ea6\",\"<b>Topic 6</b><br>Words: \\u8a34\\u984d, \\u624b\\u6570\\u6599, \\u5b9a\\u4f4f\\u5916\\u56fd\\u4eba, \\u4eee\\u653e\\u514d, \\u65e5\\u672c\\u8a9e\",\"<b>Topic 6</b><br>Words: \\u4e88\\u7b97, \\u4fdd\\u967a\\u6599, \\u30c9\\u30eb, \\u4e88\\u5099\\u8cbb, \\u88dc\\u6b63\\u4e88\\u7b97\",\"<b>Topic 6</b><br>Words: \\u88dc\\u6b63\\u4e88\\u7b97, \\u88dc\\u6b63, \\u5e74\\u5ea6, \\u4e88\\u7b97, \\u57fa\\u91d1\",\"<b>Topic 6</b><br>Words: \\u4e88\\u7b97, \\u88dc\\u6b63\\u4e88\\u7b97, \\u4f1a\\u8a08\\u6cd5, \\u4e88\\u5099\\u8cbb, \\u5e74\\u5ea6\",\"<b>Topic 6</b><br>Words: \\u601d\\u3044\\u3084\\u308a\\u4e88\\u7b97, \\u4e88\\u7b97, \\u30a6\\u30a4\\u30b0\\u30eb, \\u7dcf\\u984d, \\u8056\\u57df\"],\"marker\":{\"color\":\"#D55E00\"},\"name\":\"6_\\u4e88\\u7b97_\\u88dc\\u6b63\\u4e88\\u7b97_\\u4e88\\u5099\\u8cbb_\\u7d4c\\u8cbb\",\"orientation\":\"h\",\"visible\":\"legendonly\",\"x\":[46,61,24,184,163,50,7,38,43,40,13],\"y\":[\"\\u7d4c\\u6e08\\u7523\\u696d\\u59d4\\u54e1\\u4f1a\",\"\\u8ca1\\u52d9\\u91d1\\u878d\\u59d4\\u54e1\\u4f1a\",\"\\u8fb2\\u6797\\u6c34\\u7523\\u59d4\\u54e1\\u4f1a\",\"\\u305d\\u306e\\u4ed6\",\"\\u4e88\\u7b97\\u59d4\\u54e1\\u4f1a\",\"\\u5185\\u95a3\\u59d4\\u54e1\\u4f1a\",\"\\u6cd5\\u52d9\\u59d4\\u54e1\\u4f1a\",\"\\u539a\\u751f\\u52b4\\u50cd\\u59d4\\u54e1\\u4f1a\",\"\\u7dcf\\u52d9\\u59d4\\u54e1\\u4f1a\",\"\\u56fd\\u571f\\u4ea4\\u901a\\u59d4\\u54e1\\u4f1a\",\"\\u5916\\u52d9\\u59d4\\u54e1\\u4f1a\"],\"type\":\"bar\"},{\"hoverinfo\":\"text\",\"hovertext\":[\"<b>Topic 7</b><br>Words: \\u5b66\\u6821, \\u7d4c\\u7523\\u7701, \\u5fc3\\u7406\\u7684, \\u4e8c\\u5e74\\u751f, \\u5b50\\u4f9b\\u305f\\u3061\",\"<b>Topic 7</b><br>Words: \\u5b66\\u6821, \\u5b66\\u7d1a, \\u52a0\\u914d, \\u5b9a\\u6570, \\u5148\\u751f\",\"<b>Topic 7</b><br>Words: \\u53cb\\u9054, \\u6559\\u54e1, \\u30a4\\u30fc\\u30c8, \\u7814\\u4fee, \\u7d66\\u98df\",\"<b>Topic 7</b><br>Words: \\u6559\\u54e1, \\u5b66\\u6821, \\u5b66\\u7d1a, \\u7814\\u4fee, \\u6559\\u80b2\",\"<b>Topic 7</b><br>Words: \\u5b66\\u6821, \\u6559\\u54e1, \\u5b66\\u7d1a, \\u5b50\\u4f9b\\u305f\\u3061, \\u6559\\u80b2\",\"<b>Topic 7</b><br>Words: \\u5b66\\u6821, \\u5b66\\u7d1a, \\u6559\\u54e1, \\u6559\\u80b2, \\u4e0d\\u767b\\u6821\",\"<b>Topic 7</b><br>Words: \\u5c11\\u5e74\\u9662, \\u5c11\\u5e74, \\u5171\\u72af, \\u5341\\u4e03\\u6b73, \\u9ad8\\u7b49\\u5b66\\u6821\",\"<b>Topic 7</b><br>Words: \\u5b66\\u6821, \\u6559\\u54e1, \\u7814\\u4fee, \\u5c0f\\u5b66\\u6821, \\u5b66\\u7d1a\",\"<b>Topic 7</b><br>Words: \\u5b66\\u6821\\u65bd\\u8a2d, \\u30b3\\u30f3\\u30b5\\u30eb\\u30bf\\u30f3\\u30c8, \\u5b66\\u6821, \\u6821\\u5247, \\u30b7\\u30a7\\u30eb\\u30bf\\u30fc\",\"<b>Topic 7</b><br>Words: \\u30d0\\u30ea\\u30a2\\u30d5\\u30ea\\u30fc, \\u5c0f\\u4e2d\\u5b66\\u6821, \\u5b66\\u6821, \\u516c\\u7acb, \\u6587\\u79d1\\u7701\",\"<b>Topic 7</b><br>Words: \\u305f\\u3060\\u3057\\u66f8, \\u4f53\\u80b2, \\u30de\\u30b9\\u30af, \\u547c\\u5438, \\u56fd\\u8ecd\"],\"marker\":{\"color\":\"#0072B2\"},\"name\":\"7_\\u5b66\\u6821_\\u6559\\u54e1_\\u5b66\\u7d1a_\\u7814\\u4fee\",\"orientation\":\"h\",\"visible\":\"legendonly\",\"x\":[7,5,2,478,46,47,10,27,7,10,2],\"y\":[\"\\u7d4c\\u6e08\\u7523\\u696d\\u59d4\\u54e1\\u4f1a\",\"\\u8ca1\\u52d9\\u91d1\\u878d\\u59d4\\u54e1\\u4f1a\",\"\\u8fb2\\u6797\\u6c34\\u7523\\u59d4\\u54e1\\u4f1a\",\"\\u305d\\u306e\\u4ed6\",\"\\u4e88\\u7b97\\u59d4\\u54e1\\u4f1a\",\"\\u5185\\u95a3\\u59d4\\u54e1\\u4f1a\",\"\\u6cd5\\u52d9\\u59d4\\u54e1\\u4f1a\",\"\\u539a\\u751f\\u52b4\\u50cd\\u59d4\\u54e1\\u4f1a\",\"\\u7dcf\\u52d9\\u59d4\\u54e1\\u4f1a\",\"\\u56fd\\u571f\\u4ea4\\u901a\\u59d4\\u54e1\\u4f1a\",\"\\u5916\\u52d9\\u59d4\\u54e1\\u4f1a\"],\"type\":\"bar\"},{\"hoverinfo\":\"text\",\"hovertext\":[\"<b>Topic 8</b><br>Words: \\u539f\\u767a, \\u539f\\u5b50\\u529b, \\u7a3c\\u50cd, \\u898f\\u5236, \\u7acb\\u5730\",\"<b>Topic 8</b><br>Words: \\u8ce0\\u511f, \\u98a8\\u8a55\\u88ab\\u5bb3, \\u6771\\u96fb, \\u6f01\\u696d, \\u653e\\u5c04\\u6027\\u7269\\u8cea\",\"<b>Topic 8</b><br>Words: \\u539f\\u767a, \\u539f\\u5b50\\u529b, \\u898f\\u5236, \\u904b\\u8ee2, \\u7a3c\\u50cd\",\"<b>Topic 8</b><br>Words: \\u539f\\u767a, \\u539f\\u5b50\\u529b, \\u539f\\u5b50\\u529b\\u767a\\u96fb\\u6240, \\u7a3c\\u50cd, \\u4e8b\\u6545\",\"<b>Topic 8</b><br>Words: \\u539f\\u767a, \\u539f\\u5b50\\u529b, \\u7acb\\u5730, \\u7a3c\\u50cd, \\u898f\\u5236\",\"<b>Topic 8</b><br>Words: \\u5897\\u7a0e, \\u88ab\\u7206, \\u4e09\\u4e5d, \\u6e1b\\u7a0e, \\u30c9\\u30eb\",\"<b>Topic 8</b><br>Words: \\u6838\\u30b7\\u30a7\\u30eb\\u30bf\\u30fc, \\u821e\\u9db4\\u5e02, \\u30b7\\u30a7\\u30eb\\u30bf\\u30fc, \\u539f\\u767a, \\u7acb\\u5730\",\"<b>Topic 8</b><br>Words: \\u76db\\u571f, \\u539f\\u767a, \\u96a3\\u63a5, \\u5c4a\\u51fa, \\u5354\\u5b9a\",\"<b>Topic 8</b><br>Words: \\u539f\\u5b50\\u529b, \\u82f1\\u56fd, \\u5ec3\\u7089, \\u539f\\u767a, \\u539f\\u5b50\\u529b\\u5354\\u5b9a\"],\"marker\":{\"color\":\"#CC79A7\"},\"name\":\"8_\\u539f\\u767a_\\u539f\\u5b50\\u529b_\\u898f\\u5236_\\u7a3c\\u50cd\",\"orientation\":\"h\",\"visible\":\"legendonly\",\"x\":[143,2,341,64,52,2,3,5,17],\"y\":[\"\\u7d4c\\u6e08\\u7523\\u696d\\u59d4\\u54e1\\u4f1a\",\"\\u8fb2\\u6797\\u6c34\\u7523\\u59d4\\u54e1\\u4f1a\",\"\\u305d\\u306e\\u4ed6\",\"\\u4e88\\u7b97\\u59d4\\u54e1\\u4f1a\",\"\\u5185\\u95a3\\u59d4\\u54e1\\u4f1a\",\"\\u539a\\u751f\\u52b4\\u50cd\\u59d4\\u54e1\\u4f1a\",\"\\u7dcf\\u52d9\\u59d4\\u54e1\\u4f1a\",\"\\u56fd\\u571f\\u4ea4\\u901a\\u59d4\\u54e1\\u4f1a\",\"\\u5916\\u52d9\\u59d4\\u54e1\\u4f1a\"],\"type\":\"bar\"},{\"hoverinfo\":\"text\",\"hovertext\":[\"<b>Topic 9</b><br>Words: \\u30ed\\u30b7\\u30a2, \\u30a6\\u30af\\u30e9\\u30a4\\u30ca, \\u8cbf\\u6613\\u4fdd\\u967a, lng, \\u4fb5\\u7565\",\"<b>Topic 9</b><br>Words: \\u30ed\\u30b7\\u30a2, \\u30a6\\u30af\\u30e9\\u30a4\\u30ca, \\u7d4c\\u6e08\\u5236\\u88c1, \\u5236\\u88c1, \\u4fb5\\u7565\",\"<b>Topic 9</b><br>Words: \\u30a6\\u30af\\u30e9\\u30a4\\u30ca, \\u30ed\\u30b7\\u30a2, \\u5c0f\\u9ea6, \\u4fb5\\u7565, \\u8f38\\u5165\",\"<b>Topic 9</b><br>Words: \\u30a6\\u30af\\u30e9\\u30a4\\u30ca, \\u30ed\\u30b7\\u30a2, \\u4fb5\\u7565, \\u4fb5\\u653b, \\u6211\\u304c\\u56fd\",\"<b>Topic 9</b><br>Words: \\u30a6\\u30af\\u30e9\\u30a4\\u30ca, \\u30ed\\u30b7\\u30a2, \\u5236\\u88c1, \\u4fb5\\u653b, \\u4fb5\\u7565\",\"<b>Topic 9</b><br>Words: \\u30a6\\u30af\\u30e9\\u30a4\\u30ca, \\u30ed\\u30b7\\u30a2, \\u4fb5\\u7565, \\u5b89\\u5168\\u4fdd\\u969c, \\u30b5\\u30a4\\u30d0\\u30fc\",\"<b>Topic 9</b><br>Words: \\u30a6\\u30af\\u30e9\\u30a4\\u30ca, \\u30ed\\u30b7\\u30a2, \\u4fb5\\u7565, \\u907f\\u96e3, \\u96e3\\u6c11\",\"<b>Topic 9</b><br>Words: \\u8a8d\\u77e5\\u75c7, \\u30a6\\u30af\\u30e9\\u30a4\\u30ca, \\u30ed\\u30b7\\u30a2, \\u4fb5\\u653b, \\u5354\\u8b70\\u4f1a\",\"<b>Topic 9</b><br>Words: \\u30a6\\u30af\\u30e9\\u30a4\\u30ca, \\u30ed\\u30b7\\u30a2, \\u96e3\\u6c11, \\u53d7\\u5165\\u308c, \\u4fdd\\u8b77\\u53f8\",\"<b>Topic 9</b><br>Words: \\u30ed\\u30b7\\u30a2, \\u30a6\\u30af\\u30e9\\u30a4\\u30ca, \\u9818\\u7a7a, \\u4e2d\\u56fd\\u6d77\\u8b66, \\u4fb5\\u7565\",\"<b>Topic 9</b><br>Words: \\u30a6\\u30af\\u30e9\\u30a4\\u30ca, \\u30ed\\u30b7\\u30a2, \\u4fb5\\u7565, \\u907f\\u96e3, \\u30d7\\u30fc\\u30c1\\u30f3\"],\"marker\":{\"color\":\"#E69F00\"},\"name\":\"9_\\u30a6\\u30af\\u30e9\\u30a4\\u30ca_\\u30ed\\u30b7\\u30a2_\\u4fb5\\u7565_\\u4fb5\\u653b\",\"orientation\":\"h\",\"visible\":\"legendonly\",\"x\":[39,48,16,162,41,29,46,8,14,14,173],\"y\":[\"\\u7d4c\\u6e08\\u7523\\u696d\\u59d4\\u54e1\\u4f1a\",\"\\u8ca1\\u52d9\\u91d1\\u878d\\u59d4\\u54e1\\u4f1a\",\"\\u8fb2\\u6797\\u6c34\\u7523\\u59d4\\u54e1\\u4f1a\",\"\\u305d\\u306e\\u4ed6\",\"\\u4e88\\u7b97\\u59d4\\u54e1\\u4f1a\",\"\\u5185\\u95a3\\u59d4\\u54e1\\u4f1a\",\"\\u6cd5\\u52d9\\u59d4\\u54e1\\u4f1a\",\"\\u539a\\u751f\\u52b4\\u50cd\\u59d4\\u54e1\\u4f1a\",\"\\u7dcf\\u52d9\\u59d4\\u54e1\\u4f1a\",\"\\u56fd\\u571f\\u4ea4\\u901a\\u59d4\\u54e1\\u4f1a\",\"\\u5916\\u52d9\\u59d4\\u54e1\\u4f1a\"],\"type\":\"bar\"},{\"hoverinfo\":\"text\",\"hovertext\":[\"<b>Topic 10</b><br>Words: \\u51fa\\u8cc7, \\u9271\\u5e8a, \\u53cc\\u8449\\u90e1, \\u81ea\\u6cbb\\u4f53, \\u65b0\\u805e\\u8a18\\u4e8b\",\"<b>Topic 10</b><br>Words: ifc, \\u30c1\\u30e3\\u30a4\\u30ca, \\u30d7\\u30e9\\u30b9\\u30ef\\u30f3, jbic, adb\",\"<b>Topic 10</b><br>Words: \\u8fb2\\u5730, \\u4f5c\\u4ed8, \\u8fb2\\u5c71\\u6f01\\u6751, \\u9999\\u6e2f, \\u76e3\\u67fb\",\"<b>Topic 10</b><br>Words: \\u5730\\u65b9, \\u81ea\\u6cbb\\u4f53, \\u30b7\\u30c6\\u30a3\\u30fc, \\u5730\\u57df, \\u30b9\\u30fc\\u30d1\\u30fc\",\"<b>Topic 10</b><br>Words: \\u5730\\u65b9, \\u81ea\\u6cbb\\u4f53, \\u56fd\\u7acb\\u7af6\\u6280\\u5834, \\u30d0\\u30a4\\u30aa, \\u5929\\u4e0b\\u308a\",\"<b>Topic 10</b><br>Words: \\u533a\\u57df, \\u6ce8\\u8996, \\u81ea\\u6cbb\\u4f53, \\u5730\\u65b9, \\u5730\\u57df\",\"<b>Topic 10</b><br>Words: \\u518d\\u72af\\u9632\\u6b62, \\u753a\\u5185\\u4f1a, \\u5c06\\u6765\\u7684, \\u767d\\u66f8, \\u5229\\u5bb3\\u95a2\\u4fc2\",\"<b>Topic 10</b><br>Words: \\u81ea\\u6cbb\\u4f53, \\u7a7a\\u8abf, \\u4fdd\\u5065\\u6240, \\u5730\\u57df, \\u5171\\u751f\\u793e\\u4f1a\",\"<b>Topic 10</b><br>Words: \\u5408\\u4f75, \\u81ea\\u6cbb\\u4f53, \\u904e\\u758e\\u5730\\u57df, \\u5e02\\u753a\\u6751, \\u7dcf\\u52d9\\u7701\",\"<b>Topic 10</b><br>Words: \\u81ea\\u6cbb\\u4f53, \\u8a08\\u753b, \\u5e02\\u753a\\u6751, \\u90fd\\u9053\\u5e9c\\u770c, \\u5730\\u57df\",\"<b>Topic 10</b><br>Words: \\u4e00\\u5e2f\\u4e00\\u8def, \\u30c0\\u30ca\\u30f3, \\u5728\\u5916\\u516c\\u9928, \\u7dcf\\u9818\\u4e8b\\u9928, \\u77f3\\u57a3\\u5e02\"],\"marker\":{\"color\":\"#56B4E9\"},\"name\":\"10_\\u81ea\\u6cbb\\u4f53_\\u5730\\u65b9_\\u5730\\u57df_\\u5e02\\u753a\\u6751\",\"orientation\":\"h\",\"visible\":\"legendonly\",\"x\":[14,3,16,241,29,40,6,32,98,54,4],\"y\":[\"\\u7d4c\\u6e08\\u7523\\u696d\\u59d4\\u54e1\\u4f1a\",\"\\u8ca1\\u52d9\\u91d1\\u878d\\u59d4\\u54e1\\u4f1a\",\"\\u8fb2\\u6797\\u6c34\\u7523\\u59d4\\u54e1\\u4f1a\",\"\\u305d\\u306e\\u4ed6\",\"\\u4e88\\u7b97\\u59d4\\u54e1\\u4f1a\",\"\\u5185\\u95a3\\u59d4\\u54e1\\u4f1a\",\"\\u6cd5\\u52d9\\u59d4\\u54e1\\u4f1a\",\"\\u539a\\u751f\\u52b4\\u50cd\\u59d4\\u54e1\\u4f1a\",\"\\u7dcf\\u52d9\\u59d4\\u54e1\\u4f1a\",\"\\u56fd\\u571f\\u4ea4\\u901a\\u59d4\\u54e1\\u4f1a\",\"\\u5916\\u52d9\\u59d4\\u54e1\\u4f1a\"],\"type\":\"bar\"}],                        {\"template\":{\"data\":{\"barpolar\":[{\"marker\":{\"line\":{\"color\":\"white\",\"width\":0.5},\"pattern\":{\"fillmode\":\"overlay\",\"size\":10,\"solidity\":0.2}},\"type\":\"barpolar\"}],\"bar\":[{\"error_x\":{\"color\":\"rgb(36,36,36)\"},\"error_y\":{\"color\":\"rgb(36,36,36)\"},\"marker\":{\"line\":{\"color\":\"white\",\"width\":0.5},\"pattern\":{\"fillmode\":\"overlay\",\"size\":10,\"solidity\":0.2}},\"type\":\"bar\"}],\"carpet\":[{\"aaxis\":{\"endlinecolor\":\"rgb(36,36,36)\",\"gridcolor\":\"white\",\"linecolor\":\"white\",\"minorgridcolor\":\"white\",\"startlinecolor\":\"rgb(36,36,36)\"},\"baxis\":{\"endlinecolor\":\"rgb(36,36,36)\",\"gridcolor\":\"white\",\"linecolor\":\"white\",\"minorgridcolor\":\"white\",\"startlinecolor\":\"rgb(36,36,36)\"},\"type\":\"carpet\"}],\"choropleth\":[{\"colorbar\":{\"outlinewidth\":1,\"tickcolor\":\"rgb(36,36,36)\",\"ticks\":\"outside\"},\"type\":\"choropleth\"}],\"contourcarpet\":[{\"colorbar\":{\"outlinewidth\":1,\"tickcolor\":\"rgb(36,36,36)\",\"ticks\":\"outside\"},\"type\":\"contourcarpet\"}],\"contour\":[{\"colorbar\":{\"outlinewidth\":1,\"tickcolor\":\"rgb(36,36,36)\",\"ticks\":\"outside\"},\"colorscale\":[[0.0,\"#440154\"],[0.1111111111111111,\"#482878\"],[0.2222222222222222,\"#3e4989\"],[0.3333333333333333,\"#31688e\"],[0.4444444444444444,\"#26828e\"],[0.5555555555555556,\"#1f9e89\"],[0.6666666666666666,\"#35b779\"],[0.7777777777777778,\"#6ece58\"],[0.8888888888888888,\"#b5de2b\"],[1.0,\"#fde725\"]],\"type\":\"contour\"}],\"heatmapgl\":[{\"colorbar\":{\"outlinewidth\":1,\"tickcolor\":\"rgb(36,36,36)\",\"ticks\":\"outside\"},\"colorscale\":[[0.0,\"#440154\"],[0.1111111111111111,\"#482878\"],[0.2222222222222222,\"#3e4989\"],[0.3333333333333333,\"#31688e\"],[0.4444444444444444,\"#26828e\"],[0.5555555555555556,\"#1f9e89\"],[0.6666666666666666,\"#35b779\"],[0.7777777777777778,\"#6ece58\"],[0.8888888888888888,\"#b5de2b\"],[1.0,\"#fde725\"]],\"type\":\"heatmapgl\"}],\"heatmap\":[{\"colorbar\":{\"outlinewidth\":1,\"tickcolor\":\"rgb(36,36,36)\",\"ticks\":\"outside\"},\"colorscale\":[[0.0,\"#440154\"],[0.1111111111111111,\"#482878\"],[0.2222222222222222,\"#3e4989\"],[0.3333333333333333,\"#31688e\"],[0.4444444444444444,\"#26828e\"],[0.5555555555555556,\"#1f9e89\"],[0.6666666666666666,\"#35b779\"],[0.7777777777777778,\"#6ece58\"],[0.8888888888888888,\"#b5de2b\"],[1.0,\"#fde725\"]],\"type\":\"heatmap\"}],\"histogram2dcontour\":[{\"colorbar\":{\"outlinewidth\":1,\"tickcolor\":\"rgb(36,36,36)\",\"ticks\":\"outside\"},\"colorscale\":[[0.0,\"#440154\"],[0.1111111111111111,\"#482878\"],[0.2222222222222222,\"#3e4989\"],[0.3333333333333333,\"#31688e\"],[0.4444444444444444,\"#26828e\"],[0.5555555555555556,\"#1f9e89\"],[0.6666666666666666,\"#35b779\"],[0.7777777777777778,\"#6ece58\"],[0.8888888888888888,\"#b5de2b\"],[1.0,\"#fde725\"]],\"type\":\"histogram2dcontour\"}],\"histogram2d\":[{\"colorbar\":{\"outlinewidth\":1,\"tickcolor\":\"rgb(36,36,36)\",\"ticks\":\"outside\"},\"colorscale\":[[0.0,\"#440154\"],[0.1111111111111111,\"#482878\"],[0.2222222222222222,\"#3e4989\"],[0.3333333333333333,\"#31688e\"],[0.4444444444444444,\"#26828e\"],[0.5555555555555556,\"#1f9e89\"],[0.6666666666666666,\"#35b779\"],[0.7777777777777778,\"#6ece58\"],[0.8888888888888888,\"#b5de2b\"],[1.0,\"#fde725\"]],\"type\":\"histogram2d\"}],\"histogram\":[{\"marker\":{\"line\":{\"color\":\"white\",\"width\":0.6}},\"type\":\"histogram\"}],\"mesh3d\":[{\"colorbar\":{\"outlinewidth\":1,\"tickcolor\":\"rgb(36,36,36)\",\"ticks\":\"outside\"},\"type\":\"mesh3d\"}],\"parcoords\":[{\"line\":{\"colorbar\":{\"outlinewidth\":1,\"tickcolor\":\"rgb(36,36,36)\",\"ticks\":\"outside\"}},\"type\":\"parcoords\"}],\"pie\":[{\"automargin\":true,\"type\":\"pie\"}],\"scatter3d\":[{\"line\":{\"colorbar\":{\"outlinewidth\":1,\"tickcolor\":\"rgb(36,36,36)\",\"ticks\":\"outside\"}},\"marker\":{\"colorbar\":{\"outlinewidth\":1,\"tickcolor\":\"rgb(36,36,36)\",\"ticks\":\"outside\"}},\"type\":\"scatter3d\"}],\"scattercarpet\":[{\"marker\":{\"colorbar\":{\"outlinewidth\":1,\"tickcolor\":\"rgb(36,36,36)\",\"ticks\":\"outside\"}},\"type\":\"scattercarpet\"}],\"scattergeo\":[{\"marker\":{\"colorbar\":{\"outlinewidth\":1,\"tickcolor\":\"rgb(36,36,36)\",\"ticks\":\"outside\"}},\"type\":\"scattergeo\"}],\"scattergl\":[{\"marker\":{\"colorbar\":{\"outlinewidth\":1,\"tickcolor\":\"rgb(36,36,36)\",\"ticks\":\"outside\"}},\"type\":\"scattergl\"}],\"scattermapbox\":[{\"marker\":{\"colorbar\":{\"outlinewidth\":1,\"tickcolor\":\"rgb(36,36,36)\",\"ticks\":\"outside\"}},\"type\":\"scattermapbox\"}],\"scatterpolargl\":[{\"marker\":{\"colorbar\":{\"outlinewidth\":1,\"tickcolor\":\"rgb(36,36,36)\",\"ticks\":\"outside\"}},\"type\":\"scatterpolargl\"}],\"scatterpolar\":[{\"marker\":{\"colorbar\":{\"outlinewidth\":1,\"tickcolor\":\"rgb(36,36,36)\",\"ticks\":\"outside\"}},\"type\":\"scatterpolar\"}],\"scatter\":[{\"fillpattern\":{\"fillmode\":\"overlay\",\"size\":10,\"solidity\":0.2},\"type\":\"scatter\"}],\"scatterternary\":[{\"marker\":{\"colorbar\":{\"outlinewidth\":1,\"tickcolor\":\"rgb(36,36,36)\",\"ticks\":\"outside\"}},\"type\":\"scatterternary\"}],\"surface\":[{\"colorbar\":{\"outlinewidth\":1,\"tickcolor\":\"rgb(36,36,36)\",\"ticks\":\"outside\"},\"colorscale\":[[0.0,\"#440154\"],[0.1111111111111111,\"#482878\"],[0.2222222222222222,\"#3e4989\"],[0.3333333333333333,\"#31688e\"],[0.4444444444444444,\"#26828e\"],[0.5555555555555556,\"#1f9e89\"],[0.6666666666666666,\"#35b779\"],[0.7777777777777778,\"#6ece58\"],[0.8888888888888888,\"#b5de2b\"],[1.0,\"#fde725\"]],\"type\":\"surface\"}],\"table\":[{\"cells\":{\"fill\":{\"color\":\"rgb(237,237,237)\"},\"line\":{\"color\":\"white\"}},\"header\":{\"fill\":{\"color\":\"rgb(217,217,217)\"},\"line\":{\"color\":\"white\"}},\"type\":\"table\"}]},\"layout\":{\"annotationdefaults\":{\"arrowhead\":0,\"arrowwidth\":1},\"autotypenumbers\":\"strict\",\"coloraxis\":{\"colorbar\":{\"outlinewidth\":1,\"tickcolor\":\"rgb(36,36,36)\",\"ticks\":\"outside\"}},\"colorscale\":{\"diverging\":[[0.0,\"rgb(103,0,31)\"],[0.1,\"rgb(178,24,43)\"],[0.2,\"rgb(214,96,77)\"],[0.3,\"rgb(244,165,130)\"],[0.4,\"rgb(253,219,199)\"],[0.5,\"rgb(247,247,247)\"],[0.6,\"rgb(209,229,240)\"],[0.7,\"rgb(146,197,222)\"],[0.8,\"rgb(67,147,195)\"],[0.9,\"rgb(33,102,172)\"],[1.0,\"rgb(5,48,97)\"]],\"sequential\":[[0.0,\"#440154\"],[0.1111111111111111,\"#482878\"],[0.2222222222222222,\"#3e4989\"],[0.3333333333333333,\"#31688e\"],[0.4444444444444444,\"#26828e\"],[0.5555555555555556,\"#1f9e89\"],[0.6666666666666666,\"#35b779\"],[0.7777777777777778,\"#6ece58\"],[0.8888888888888888,\"#b5de2b\"],[1.0,\"#fde725\"]],\"sequentialminus\":[[0.0,\"#440154\"],[0.1111111111111111,\"#482878\"],[0.2222222222222222,\"#3e4989\"],[0.3333333333333333,\"#31688e\"],[0.4444444444444444,\"#26828e\"],[0.5555555555555556,\"#1f9e89\"],[0.6666666666666666,\"#35b779\"],[0.7777777777777778,\"#6ece58\"],[0.8888888888888888,\"#b5de2b\"],[1.0,\"#fde725\"]]},\"colorway\":[\"#1F77B4\",\"#FF7F0E\",\"#2CA02C\",\"#D62728\",\"#9467BD\",\"#8C564B\",\"#E377C2\",\"#7F7F7F\",\"#BCBD22\",\"#17BECF\"],\"font\":{\"color\":\"rgb(36,36,36)\"},\"geo\":{\"bgcolor\":\"white\",\"lakecolor\":\"white\",\"landcolor\":\"white\",\"showlakes\":true,\"showland\":true,\"subunitcolor\":\"white\"},\"hoverlabel\":{\"align\":\"left\"},\"hovermode\":\"closest\",\"mapbox\":{\"style\":\"light\"},\"paper_bgcolor\":\"white\",\"plot_bgcolor\":\"white\",\"polar\":{\"angularaxis\":{\"gridcolor\":\"rgb(232,232,232)\",\"linecolor\":\"rgb(36,36,36)\",\"showgrid\":false,\"showline\":true,\"ticks\":\"outside\"},\"bgcolor\":\"white\",\"radialaxis\":{\"gridcolor\":\"rgb(232,232,232)\",\"linecolor\":\"rgb(36,36,36)\",\"showgrid\":false,\"showline\":true,\"ticks\":\"outside\"}},\"scene\":{\"xaxis\":{\"backgroundcolor\":\"white\",\"gridcolor\":\"rgb(232,232,232)\",\"gridwidth\":2,\"linecolor\":\"rgb(36,36,36)\",\"showbackground\":true,\"showgrid\":false,\"showline\":true,\"ticks\":\"outside\",\"zeroline\":false,\"zerolinecolor\":\"rgb(36,36,36)\"},\"yaxis\":{\"backgroundcolor\":\"white\",\"gridcolor\":\"rgb(232,232,232)\",\"gridwidth\":2,\"linecolor\":\"rgb(36,36,36)\",\"showbackground\":true,\"showgrid\":false,\"showline\":true,\"ticks\":\"outside\",\"zeroline\":false,\"zerolinecolor\":\"rgb(36,36,36)\"},\"zaxis\":{\"backgroundcolor\":\"white\",\"gridcolor\":\"rgb(232,232,232)\",\"gridwidth\":2,\"linecolor\":\"rgb(36,36,36)\",\"showbackground\":true,\"showgrid\":false,\"showline\":true,\"ticks\":\"outside\",\"zeroline\":false,\"zerolinecolor\":\"rgb(36,36,36)\"}},\"shapedefaults\":{\"fillcolor\":\"black\",\"line\":{\"width\":0},\"opacity\":0.3},\"ternary\":{\"aaxis\":{\"gridcolor\":\"rgb(232,232,232)\",\"linecolor\":\"rgb(36,36,36)\",\"showgrid\":false,\"showline\":true,\"ticks\":\"outside\"},\"baxis\":{\"gridcolor\":\"rgb(232,232,232)\",\"linecolor\":\"rgb(36,36,36)\",\"showgrid\":false,\"showline\":true,\"ticks\":\"outside\"},\"bgcolor\":\"white\",\"caxis\":{\"gridcolor\":\"rgb(232,232,232)\",\"linecolor\":\"rgb(36,36,36)\",\"showgrid\":false,\"showline\":true,\"ticks\":\"outside\"}},\"title\":{\"x\":0.05},\"xaxis\":{\"automargin\":true,\"gridcolor\":\"rgb(232,232,232)\",\"linecolor\":\"rgb(36,36,36)\",\"showgrid\":false,\"showline\":true,\"ticks\":\"outside\",\"title\":{\"standoff\":15},\"zeroline\":false,\"zerolinecolor\":\"rgb(36,36,36)\"},\"yaxis\":{\"automargin\":true,\"gridcolor\":\"rgb(232,232,232)\",\"linecolor\":\"rgb(36,36,36)\",\"showgrid\":false,\"showline\":true,\"ticks\":\"outside\",\"title\":{\"standoff\":15},\"zeroline\":false,\"zerolinecolor\":\"rgb(36,36,36)\"}}},\"xaxis\":{\"showgrid\":true,\"title\":{\"text\":\"Frequency\"}},\"yaxis\":{\"showgrid\":true,\"title\":{\"text\":\"Class\"}},\"title\":{\"font\":{\"size\":22,\"color\":\"Black\"},\"text\":\"<b>Topics per Class</b>\",\"y\":0.95,\"x\":0.4,\"xanchor\":\"center\",\"yanchor\":\"top\"},\"hoverlabel\":{\"font\":{\"size\":16,\"family\":\"Rockwell\"},\"bgcolor\":\"white\"},\"width\":1250,\"height\":900,\"legend\":{\"title\":{\"text\":\"<b>Global Topic Representation\"}}},                        {\"responsive\": true}                    ).then(function(){\n",
              "                            \n",
              "var gd = document.getElementById('c7ca0a59-f195-4cc1-9535-e341396f2f4c');\n",
              "var x = new MutationObserver(function (mutations, observer) {{\n",
              "        var display = window.getComputedStyle(gd).display;\n",
              "        if (!display || display === 'none') {{\n",
              "            console.log([gd, 'removed!']);\n",
              "            Plotly.purge(gd);\n",
              "            observer.disconnect();\n",
              "        }}\n",
              "}});\n",
              "\n",
              "// Listen for the removal of the full notebook cells\n",
              "var notebookContainer = gd.closest('#notebook-container');\n",
              "if (notebookContainer) {{\n",
              "    x.observe(notebookContainer, {childList: true});\n",
              "}}\n",
              "\n",
              "// Listen for the clearing of the current output cell\n",
              "var outputEl = gd.closest('.output');\n",
              "if (outputEl) {{\n",
              "    x.observe(outputEl, {childList: true});\n",
              "}}\n",
              "\n",
              "                        })                };                            </script>        </div>\n",
              "</body>\n",
              "</html>"
            ]
          },
          "metadata": {}
        }
      ]
    }
  ]
}